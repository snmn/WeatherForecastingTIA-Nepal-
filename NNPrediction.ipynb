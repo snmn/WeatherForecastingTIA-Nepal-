{
 "cells": [
  {
   "cell_type": "markdown",
   "metadata": {},
   "source": [
    "# Artificial Neural Networks for Weather Forecasting\n"
   ]
  },
  {
   "cell_type": "markdown",
   "metadata": {},
   "source": [
    "\n",
    "\n",
    "THEORY\n",
    "\n",
    "figure no 1 :"
   ]
  },
  {
   "cell_type": "markdown",
   "metadata": {},
   "source": [
    "The neural network depicted above contains an input layer on the far left representing two features, x1 and x2, that are feeding the neural network.  Those two features are fed into the neural network which are processed and transmitted through two layers of neurons which are referred to as hidden layers. This depiction shows two hidden layers with each layer containing three neurons (nodes).  The signal then exits the neural network and is aggregated at the output layer as a single numerical predicted value. \n",
    "\n",
    "Each arrow represents a mathematical transformation of a value beginning at the arrow's base which is then multiplied by a weight specific to that path.  Each node within a layer will be fed a value in this way. Then all the values converging at the node are summed.  It is this aggregate of multiplying by weights and summing the products that define the linear operations of a neural network.\n",
    "\n",
    "FIGURE NO:2\n",
    "\n",
    "After summation is carried out at each node a special, non-linear, function is applied to the sum which is depicted in the image above as **Fn(...)**.  This special function that introduces non-linear characteristics into a neural network is called an activation function.  It is this non-linear characteristic brought about by activation functions that give multilayer neural networks their power.  If it was not for the non-linearity added to the process then all layers would effectively just algebraically combine into one constant operation consisting of multiplying the inputs by some flat coefficient value (ie, a linear model). "
   ]
  },
  {
   "cell_type": "markdown",
   "metadata": {},
   "source": [
    "### TensorFlow's High Level Estimator API \n",
    "\n",
    "\n",
    "The TensorFlow team developed the Estimator API to make the library more accessible to the everyday developer.  This high level API provides a common interface to `train(...)` models, `evaluate(...)` models, and `predict(...)` outcomes of unknown cases similar to (and influenced by) the popular Sci-Kit Learn library which is accomplished by implementing a common interface.  Also, built into the high level API are a load of machine learning best practices, abstractions, and ability for scalability.\n",
    "\n",
    "All of this machine learning goodness brings about a set of tools implemented in the base Estimator class as well as multiple pre-canned model types that lowers the barrier to entry for using TensorFlow so it can be applied to a host of everyday problems (or opportunities).  By abstracting away much of the mundane and manual aspects of things like writing training loops or dealing with sessions the developer is able to focus on more important things like rapidly trying multiple models and model architectures to find the one that best fits their need.  this project will be describing how to use one of the very powerful deep neural network estimators, the DNNRegressor."
   ]
  },
  {
   "cell_type": "markdown",
   "metadata": {},
   "source": [
    "### Building a DNNRegressor to Predict the Weather\n",
    "\n"
   ]
  },
  {
   "cell_type": "code",
   "execution_count": 2,
   "metadata": {},
   "outputs": [],
   "source": [
    "import pandas as pd\n",
    "import numpy as np\n",
    "import tensorflow as tf\n",
    "from sklearn.metrics import explained_variance_score, \\\n",
    "    mean_absolute_error, \\\n",
    "    median_absolute_error\n",
    "from sklearn.model_selection import train_test_split"
   ]
  },
  {
   "cell_type": "markdown",
   "metadata": {},
   "source": [
    "Reading of Data"
   ]
  },
  {
   "cell_type": "code",
   "execution_count": 4,
   "metadata": {},
   "outputs": [
    {
     "data": {
      "text/html": [
       "<div>\n",
       "<style scoped>\n",
       "    .dataframe tbody tr th:only-of-type {\n",
       "        vertical-align: middle;\n",
       "    }\n",
       "\n",
       "    .dataframe tbody tr th {\n",
       "        vertical-align: top;\n",
       "    }\n",
       "\n",
       "    .dataframe thead th {\n",
       "        text-align: right;\n",
       "    }\n",
       "</style>\n",
       "<table border=\"1\" class=\"dataframe\">\n",
       "  <thead>\n",
       "    <tr style=\"text-align: right;\">\n",
       "      <th></th>\n",
       "      <th>count</th>\n",
       "      <th>mean</th>\n",
       "      <th>std</th>\n",
       "      <th>min</th>\n",
       "      <th>25%</th>\n",
       "      <th>50%</th>\n",
       "      <th>75%</th>\n",
       "      <th>max</th>\n",
       "    </tr>\n",
       "  </thead>\n",
       "  <tbody>\n",
       "    <tr>\n",
       "      <th>meantempm</th>\n",
       "      <td>3652.0</td>\n",
       "      <td>19.683311</td>\n",
       "      <td>5.094307</td>\n",
       "      <td>6.75</td>\n",
       "      <td>15.100</td>\n",
       "      <td>21.05</td>\n",
       "      <td>24.35</td>\n",
       "      <td>28.35</td>\n",
       "    </tr>\n",
       "    <tr>\n",
       "      <th>meantempm_1</th>\n",
       "      <td>3652.0</td>\n",
       "      <td>19.683009</td>\n",
       "      <td>5.094800</td>\n",
       "      <td>6.75</td>\n",
       "      <td>15.100</td>\n",
       "      <td>21.05</td>\n",
       "      <td>24.35</td>\n",
       "      <td>28.35</td>\n",
       "    </tr>\n",
       "    <tr>\n",
       "      <th>meantempm_2</th>\n",
       "      <td>3652.0</td>\n",
       "      <td>19.682640</td>\n",
       "      <td>5.095396</td>\n",
       "      <td>6.75</td>\n",
       "      <td>15.100</td>\n",
       "      <td>21.05</td>\n",
       "      <td>24.35</td>\n",
       "      <td>28.35</td>\n",
       "    </tr>\n",
       "    <tr>\n",
       "      <th>meantempm_3</th>\n",
       "      <td>3652.0</td>\n",
       "      <td>19.682256</td>\n",
       "      <td>5.096011</td>\n",
       "      <td>6.75</td>\n",
       "      <td>15.100</td>\n",
       "      <td>21.05</td>\n",
       "      <td>24.35</td>\n",
       "      <td>28.35</td>\n",
       "    </tr>\n",
       "    <tr>\n",
       "      <th>maxtempm</th>\n",
       "      <td>3652.0</td>\n",
       "      <td>26.448658</td>\n",
       "      <td>4.380177</td>\n",
       "      <td>10.00</td>\n",
       "      <td>23.175</td>\n",
       "      <td>27.60</td>\n",
       "      <td>30.00</td>\n",
       "      <td>35.20</td>\n",
       "    </tr>\n",
       "    <tr>\n",
       "      <th>mintempm</th>\n",
       "      <td>3652.0</td>\n",
       "      <td>12.917963</td>\n",
       "      <td>6.416987</td>\n",
       "      <td>-2.00</td>\n",
       "      <td>7.275</td>\n",
       "      <td>13.40</td>\n",
       "      <td>19.40</td>\n",
       "      <td>22.40</td>\n",
       "    </tr>\n",
       "    <tr>\n",
       "      <th>maxtempm_1</th>\n",
       "      <td>3652.0</td>\n",
       "      <td>26.448740</td>\n",
       "      <td>4.380059</td>\n",
       "      <td>10.00</td>\n",
       "      <td>23.175</td>\n",
       "      <td>27.60</td>\n",
       "      <td>30.00</td>\n",
       "      <td>35.20</td>\n",
       "    </tr>\n",
       "    <tr>\n",
       "      <th>mintempm_1</th>\n",
       "      <td>3652.0</td>\n",
       "      <td>12.917278</td>\n",
       "      <td>6.418093</td>\n",
       "      <td>-2.00</td>\n",
       "      <td>7.275</td>\n",
       "      <td>13.40</td>\n",
       "      <td>19.40</td>\n",
       "      <td>22.40</td>\n",
       "    </tr>\n",
       "    <tr>\n",
       "      <th>maxtempm_2</th>\n",
       "      <td>3652.0</td>\n",
       "      <td>26.448686</td>\n",
       "      <td>4.380134</td>\n",
       "      <td>10.00</td>\n",
       "      <td>23.175</td>\n",
       "      <td>27.60</td>\n",
       "      <td>30.00</td>\n",
       "      <td>35.20</td>\n",
       "    </tr>\n",
       "    <tr>\n",
       "      <th>mintempm_2</th>\n",
       "      <td>3652.0</td>\n",
       "      <td>12.916594</td>\n",
       "      <td>6.419199</td>\n",
       "      <td>-2.00</td>\n",
       "      <td>7.275</td>\n",
       "      <td>13.40</td>\n",
       "      <td>19.40</td>\n",
       "      <td>22.40</td>\n",
       "    </tr>\n",
       "    <tr>\n",
       "      <th>maxtempm_3</th>\n",
       "      <td>3652.0</td>\n",
       "      <td>26.448384</td>\n",
       "      <td>4.380520</td>\n",
       "      <td>10.00</td>\n",
       "      <td>23.175</td>\n",
       "      <td>27.60</td>\n",
       "      <td>30.00</td>\n",
       "      <td>35.20</td>\n",
       "    </tr>\n",
       "    <tr>\n",
       "      <th>mintempm_3</th>\n",
       "      <td>3652.0</td>\n",
       "      <td>12.916128</td>\n",
       "      <td>6.419980</td>\n",
       "      <td>-2.00</td>\n",
       "      <td>7.275</td>\n",
       "      <td>13.40</td>\n",
       "      <td>19.40</td>\n",
       "      <td>22.40</td>\n",
       "    </tr>\n",
       "    <tr>\n",
       "      <th>precipm_1</th>\n",
       "      <td>3652.0</td>\n",
       "      <td>4.083488</td>\n",
       "      <td>10.760063</td>\n",
       "      <td>0.00</td>\n",
       "      <td>0.000</td>\n",
       "      <td>0.00</td>\n",
       "      <td>2.00</td>\n",
       "      <td>115.50</td>\n",
       "    </tr>\n",
       "    <tr>\n",
       "      <th>precipm_2</th>\n",
       "      <td>3652.0</td>\n",
       "      <td>4.083488</td>\n",
       "      <td>10.760063</td>\n",
       "      <td>0.00</td>\n",
       "      <td>0.000</td>\n",
       "      <td>0.00</td>\n",
       "      <td>2.00</td>\n",
       "      <td>115.50</td>\n",
       "    </tr>\n",
       "    <tr>\n",
       "      <th>precipm_3</th>\n",
       "      <td>3652.0</td>\n",
       "      <td>4.083488</td>\n",
       "      <td>10.760063</td>\n",
       "      <td>0.00</td>\n",
       "      <td>0.000</td>\n",
       "      <td>0.00</td>\n",
       "      <td>2.00</td>\n",
       "      <td>115.50</td>\n",
       "    </tr>\n",
       "    <tr>\n",
       "      <th>humidity_1</th>\n",
       "      <td>3652.0</td>\n",
       "      <td>83.665389</td>\n",
       "      <td>11.453783</td>\n",
       "      <td>13.40</td>\n",
       "      <td>76.875</td>\n",
       "      <td>85.30</td>\n",
       "      <td>93.00</td>\n",
       "      <td>100.00</td>\n",
       "    </tr>\n",
       "    <tr>\n",
       "      <th>humidity_2</th>\n",
       "      <td>3652.0</td>\n",
       "      <td>83.659584</td>\n",
       "      <td>11.509080</td>\n",
       "      <td>-13.40</td>\n",
       "      <td>76.875</td>\n",
       "      <td>85.30</td>\n",
       "      <td>93.00</td>\n",
       "      <td>100.00</td>\n",
       "    </tr>\n",
       "    <tr>\n",
       "      <th>humidity_3</th>\n",
       "      <td>3652.0</td>\n",
       "      <td>83.663226</td>\n",
       "      <td>11.512146</td>\n",
       "      <td>-13.40</td>\n",
       "      <td>76.875</td>\n",
       "      <td>85.30</td>\n",
       "      <td>93.00</td>\n",
       "      <td>100.00</td>\n",
       "    </tr>\n",
       "  </tbody>\n",
       "</table>\n",
       "</div>"
      ],
      "text/plain": [
       "              count       mean        std    min     25%    50%    75%     max\n",
       "meantempm    3652.0  19.683311   5.094307   6.75  15.100  21.05  24.35   28.35\n",
       "meantempm_1  3652.0  19.683009   5.094800   6.75  15.100  21.05  24.35   28.35\n",
       "meantempm_2  3652.0  19.682640   5.095396   6.75  15.100  21.05  24.35   28.35\n",
       "meantempm_3  3652.0  19.682256   5.096011   6.75  15.100  21.05  24.35   28.35\n",
       "maxtempm     3652.0  26.448658   4.380177  10.00  23.175  27.60  30.00   35.20\n",
       "mintempm     3652.0  12.917963   6.416987  -2.00   7.275  13.40  19.40   22.40\n",
       "maxtempm_1   3652.0  26.448740   4.380059  10.00  23.175  27.60  30.00   35.20\n",
       "mintempm_1   3652.0  12.917278   6.418093  -2.00   7.275  13.40  19.40   22.40\n",
       "maxtempm_2   3652.0  26.448686   4.380134  10.00  23.175  27.60  30.00   35.20\n",
       "mintempm_2   3652.0  12.916594   6.419199  -2.00   7.275  13.40  19.40   22.40\n",
       "maxtempm_3   3652.0  26.448384   4.380520  10.00  23.175  27.60  30.00   35.20\n",
       "mintempm_3   3652.0  12.916128   6.419980  -2.00   7.275  13.40  19.40   22.40\n",
       "precipm_1    3652.0   4.083488  10.760063   0.00   0.000   0.00   2.00  115.50\n",
       "precipm_2    3652.0   4.083488  10.760063   0.00   0.000   0.00   2.00  115.50\n",
       "precipm_3    3652.0   4.083488  10.760063   0.00   0.000   0.00   2.00  115.50\n",
       "humidity_1   3652.0  83.665389  11.453783  13.40  76.875  85.30  93.00  100.00\n",
       "humidity_2   3652.0  83.659584  11.509080 -13.40  76.875  85.30  93.00  100.00\n",
       "humidity_3   3652.0  83.663226  11.512146 -13.40  76.875  85.30  93.00  100.00"
      ]
     },
     "execution_count": 4,
     "metadata": {},
     "output_type": "execute_result"
    }
   ],
   "source": [
    "# read in the csv data into a pandas data frame and set the date as the index\n",
    "df = pd.read_csv('final_data.csv').set_index('date')\n",
    "\n",
    "# execute the describe() function and transpose the output so that it doesn't overflow the width of the screen\n",
    "df.describe().T"
   ]
  },
  {
   "cell_type": "code",
   "execution_count": 5,
   "metadata": {},
   "outputs": [
    {
     "name": "stdout",
     "output_type": "stream",
     "text": [
      "<class 'pandas.core.frame.DataFrame'>\n",
      "Index: 3652 entries, 1/1/2008 to 12/31/2017\n",
      "Data columns (total 18 columns):\n",
      "meantempm      3652 non-null float64\n",
      "meantempm_1    3652 non-null float64\n",
      "meantempm_2    3652 non-null float64\n",
      "meantempm_3    3652 non-null float64\n",
      "maxtempm       3652 non-null float64\n",
      "mintempm       3652 non-null float64\n",
      "maxtempm_1     3652 non-null float64\n",
      "mintempm_1     3652 non-null float64\n",
      "maxtempm_2     3652 non-null float64\n",
      "mintempm_2     3652 non-null float64\n",
      "maxtempm_3     3652 non-null float64\n",
      "mintempm_3     3652 non-null float64\n",
      "precipm_1      3652 non-null float64\n",
      "precipm_2      3652 non-null float64\n",
      "precipm_3      3652 non-null float64\n",
      "humidity_1     3652 non-null float64\n",
      "humidity_2     3652 non-null float64\n",
      "humidity_3     3652 non-null float64\n",
      "dtypes: float64(18)\n",
      "memory usage: 542.1+ KB\n"
     ]
    }
   ],
   "source": [
    "# execute the info() function\n",
    "df.info()"
   ]
  },
  {
   "cell_type": "markdown",
   "metadata": {},
   "source": [
    "remove the mintempm and maxtempm columns as they have no meaning in helping us predict the average mean temperatures, we are predicting the future\n",
    "</br>also separate out the features (X) from the targets (y)."
   ]
  },
  {
   "cell_type": "code",
   "execution_count": 6,
   "metadata": {},
   "outputs": [],
   "source": [
    "# First drop the maxtempm and mintempm from the dataframe\n",
    "df = df.drop(['mintempm', 'maxtempm'], axis=1)\n",
    "\n",
    "# X will be a pandas dataframe of all columns except meantempm\n",
    "X = df[[col for col in df.columns if col != 'meantempm']]\n",
    "\n",
    "# y will be a pandas series of the meantempm\n",
    "y = df['meantempm']"
   ]
  },
  {
   "cell_type": "markdown",
   "metadata": {},
   "source": [
    " dividing  dataset into training and testing sets.   `train_test_split(...)`."
   ]
  },
  {
   "cell_type": "code",
   "execution_count": 7,
   "metadata": {},
   "outputs": [],
   "source": [
    "# split data into training set and a temporary set using sklearn.model_selection.traing_test_split\n",
    "X_train, X_tmp, y_train, y_tmp = train_test_split(X, y, test_size=0.2, random_state=23)"
   ]
  },
  {
   "cell_type": "code",
   "execution_count": 8,
   "metadata": {},
   "outputs": [
    {
     "name": "stdout",
     "output_type": "stream",
     "text": [
      "Training instances   2921, Training features   15\n",
      "Validation instances 366, Validation features 15\n",
      "Testing instances    365, Testing features    15\n"
     ]
    }
   ],
   "source": [
    "# take the remaining 20% of data in X_tmp, y_tmp and split them evenly\n",
    "X_test, X_val, y_test, y_val = train_test_split(X_tmp, y_tmp, test_size=0.5, random_state=23)\n",
    "\n",
    "X_train.shape, X_test.shape, X_val.shape\n",
    "print(\"Training instances   {}, Training features   {}\".format(X_train.shape[0], X_train.shape[1]))\n",
    "print(\"Validation instances {}, Validation features {}\".format(X_val.shape[0], X_val.shape[1]))\n",
    "print(\"Testing instances    {}, Testing features    {}\".format(X_test.shape[0], X_test.shape[1]))"
   ]
  },
  {
   "cell_type": "markdown",
   "metadata": {},
   "source": [
    "The first step to take in building a neural network model is to instantiate the `tf.estimator.DNNRegressor(...)` class.  The class constructor has multiple parameters but I will be focusing on the following:\n",
    "\n",
    "* feature_columns: list-like structure containing a definition of the name and data types for the features being fed into the model\n",
    "* hidden_units: list-like structure containing a definition of the number width and depth of the neural network\n",
    "* optimizer: an instance of tf.Optimizer subclass which optimizes the model's weights during training; has a default is the AdaGrad optimizer.\n",
    "* activation_fn: an activation function used to introduce non-linearity into the network at each layer; the default is ReLU\n",
    "* model_dir: a directory to be created that will contain metadata and other checkpoint saves for the model\n"
   ]
  },
  {
   "cell_type": "code",
   "execution_count": 9,
   "metadata": {},
   "outputs": [],
   "source": [
    "feature_cols = [tf.feature_column.numeric_column(col) for col in X.columns]"
   ]
  },
  {
   "cell_type": "markdown",
   "metadata": {},
   "source": [
    "feature columns defined,</br>\n",
    "now instantiate the DNNRegressor class and store it in the regressor variable. \n",
    "</br> model data stored in a directory called *tf_wx_model*."
   ]
  },
  {
   "cell_type": "code",
   "execution_count": 29,
   "metadata": {},
   "outputs": [
    {
     "name": "stdout",
     "output_type": "stream",
     "text": [
      "INFO:tensorflow:Using default config.\n",
      "INFO:tensorflow:Using config: {'_model_dir': 'tf_wx_model', '_tf_random_seed': None, '_save_summary_steps': 100, '_save_checkpoints_steps': None, '_save_checkpoints_secs': 600, '_session_config': allow_soft_placement: true\n",
      "graph_options {\n",
      "  rewrite_options {\n",
      "    meta_optimizer_iterations: ONE\n",
      "  }\n",
      "}\n",
      ", '_keep_checkpoint_max': 5, '_keep_checkpoint_every_n_hours': 10000, '_log_step_count_steps': 100, '_train_distribute': None, '_device_fn': None, '_protocol': None, '_eval_distribute': None, '_experimental_distribute': None, '_service': None, '_cluster_spec': <tensorflow.python.training.server_lib.ClusterSpec object at 0x000002665419DB00>, '_task_type': 'worker', '_task_id': 0, '_global_id_in_cluster': 0, '_master': '', '_evaluation_master': '', '_is_chief': True, '_num_ps_replicas': 0, '_num_worker_replicas': 1}\n"
     ]
    }
   ],
   "source": [
    "regressor = tf.estimator.DNNRegressor(feature_columns=feature_cols,\n",
    "                                      hidden_units=[50, 50],\n",
    "                                      model_dir='tf_wx_model')"
   ]
  },
  {
   "cell_type": "markdown",
   "metadata": {},
   "source": [
    "define a reusable function that is generically referred to as an input function which is call `wx_input_fn(...)`.  This function will be used to feed data into  neural network during the training and testing phases. T`tf.estimator.inputs.pandas_input_fn(...)`"
   ]
  },
  {
   "cell_type": "code",
   "execution_count": 30,
   "metadata": {},
   "outputs": [],
   "source": [
    "def wx_input_fn(X, y=None, num_epochs=None, shuffle=True, batch_size=1850):\n",
    "    return tf.estimator.inputs.pandas_input_fn(x=X,\n",
    "                                               y=y,\n",
    "                                               num_epochs=num_epochs,\n",
    "                                               shuffle=shuffle,\n",
    "                                               batch_size=batch_size)"
   ]
  },
  {
   "cell_type": "markdown",
   "metadata": {},
   "source": [
    "\n",
    "\n",
    "The parameters to the function are defined as follows:\n",
    "* X: the input features to be fed into one of the three DNNRegressor interface methods `train`, `evaluate`, and `predict`\n",
    "* y: the target values of X, which are optional and will not be supplied to the `predict` call\n",
    "* num_epochs: optional parameter. An epoch occurs when the algorithm executes over the entire dataset one time.  \n",
    "* shuffle: optional, specifies whether to randomly select a batch (subset) of the dataset each time the algorithm executes\n",
    "* batch_size: the number of samples to include each time the algorithm executes"
   ]
  },
  {
   "cell_type": "code",
   "execution_count": null,
   "metadata": {
    "scrolled": true
   },
   "outputs": [],
   "source": [
    "evaluations = []\n",
    "STEPS = 500\n",
    "for i in range(100):\n",
    "    regressor.train(input_fn=wx_input_fn(X_train, y=y_train), steps=STEPS)\n",
    "    evaluation = regressor.evaluate(input_fn=wx_input_fn(X_val, y_val,\n",
    "                                                         num_epochs=1,\n",
    "                                                         shuffle=False),\n",
    "                                    steps=1)\n",
    "    evaluations.append(regressor.evaluate(input_fn=wx_input_fn(X_val,\n",
    "                                                               y_val,\n",
    "                                                               num_epochs=1,\n",
    "                                                               shuffle=False)))"
   ]
  },
  {
   "cell_type": "markdown",
   "metadata": {},
   "source": [
    "The above loop iterates 100 times. In the body of the loop,  `train(...)` method of the regressor object passing it my reusable `wx_input_fn(...)` which is in turn passed  training feature set and targets. The final parameter to the `train(...)` method is `steps` which I set to 500 which means the training set will be batched 500 times per loop.  \n",
    "\n",
    "</br>\n",
    " `evaluate(...)` method for each iteration of the loop and captured its output in a list.  When `train(...)` method is fired.  It selects a random batch of training records and pushes them through the network until a prediction is made, and for each record the loss function is calculated.  Then based off the loss calculated the weights are adjusted according to the optimizer's logic which does a pretty good job at making adjustments towards the direction that reduces the overall loss for the next iteration.  These loss values, in general as long as the learning rate is small enough, decline over time with each iteration or step. \n",
    "\n",
    "However, after a certain amount of these learning iterations the weights start to be influenced not just by the overall trends in the data but, also by the uninformative noise inherit in virtually all real data.  At this point the network is over influenced by the idiosyncrasies of the training data and becomes unable to gereralize predictions about the overall population of data (ie, data it has not yet seen).  "
   ]
  },
  {
   "cell_type": "code",
   "execution_count": 32,
   "metadata": {},
   "outputs": [
    {
     "data": {
      "text/plain": [
       "{'average_loss': 1.1656892,\n",
       " 'label/mean': 19.77787,\n",
       " 'loss': 426.64224,\n",
       " 'prediction/mean': 19.831203,\n",
       " 'global_step': 185500}"
      ]
     },
     "execution_count": 32,
     "metadata": {},
     "output_type": "execute_result"
    }
   ],
   "source": [
    "evaluations[0]"
   ]
  },
  {
   "cell_type": "markdown",
   "metadata": {},
   "source": []
  },
  {
   "cell_type": "code",
   "execution_count": 33,
   "metadata": {},
   "outputs": [
    {
     "data": {
      "image/png": "[encoded data removed]",
      "text/plain": [
       "<Figure size 1008x720 with 1 Axes>"
      ]
     },
     "metadata": {
      "needs_background": "light"
     },
     "output_type": "display_data"
    }
   ],
   "source": [
    "import matplotlib.pyplot as plt\n",
    "%matplotlib inline\n",
    "\n",
    "# manually set the parameters of the figure to and appropriate size\n",
    "plt.rcParams['figure.figsize'] = [14, 10]\n",
    "\n",
    "loss_values = [ev['loss'] for ev in evaluations]\n",
    "training_steps = [ev['global_step'] for ev in evaluations]\n",
    "\n",
    "plt.scatter(x=training_steps, y=loss_values)\n",
    "plt.xlabel('Training steps (Epochs = steps / 2)')\n",
    "plt.ylabel('Loss (SSE)')\n",
    "plt.show()"
   ]
  },
  {
   "cell_type": "markdown",
   "metadata": {},
   "source": [
    " From the chart above it looks like after all those iterations model is not overfitted because the evaluation losses never exhibit a significant change in direction toward an increasing value.  "
   ]
  },
  {
   "cell_type": "code",
   "execution_count": 34,
   "metadata": {},
   "outputs": [
    {
     "name": "stdout",
     "output_type": "stream",
     "text": [
      "INFO:tensorflow:Calling model_fn.\n",
      "INFO:tensorflow:Done calling model_fn.\n",
      "INFO:tensorflow:Graph was finalized.\n",
      "INFO:tensorflow:Restoring parameters from tf_wx_model\\model.ckpt-235000\n",
      "INFO:tensorflow:Running local_init_op.\n",
      "INFO:tensorflow:Done running local_init_op.\n",
      "The Explained Variance: 0.94\n",
      "The Mean Absolute Error: 0.86 degrees Celcius\n",
      "The Median Absolute Error: 0.65 degrees Celcius\n"
     ]
    }
   ],
   "source": [
    "pred = regressor.predict(input_fn=wx_input_fn(X_test,\n",
    "                                              num_epochs=1,\n",
    "                                              shuffle=False))\n",
    "predictions = np.array([p['predictions'][0] for p in pred])\n",
    "\n",
    "print(\"The Explained Variance: %.2f\" % explained_variance_score(\n",
    "                                            y_test, predictions))  \n",
    "print(\"The Mean Absolute Error: %.2f degrees Celcius\" % mean_absolute_error(\n",
    "                                            y_test, predictions))  \n",
    "print(\"The Median Absolute Error: %.2f degrees Celcius\" % median_absolute_error(\n",
    "                                            y_test, predictions))"
   ]
  },
  {
   "cell_type": "markdown",
   "metadata": {},
   "source": [
    " "
   ]
  },
  {
   "cell_type": "markdown",
   "metadata": {},
   "source": [
    "<h1>Conclusion</h1>\n",
    "</br>\n",
    "R2=0.94, i.e. the regression model explained about 94% of total variations, suggests that the regression model has high forecast accuracy and cannot predict only 6% of mean temperature variables.\n",
    "which indicates the good performance of the model in predicting the mean temperature\n"
   ]
  },
  {
   "cell_type": "code",
   "execution_count": null,
   "metadata": {},
   "outputs": [],
   "source": []
  }
 ],
 "metadata": {
  "kernelspec": {
   "display_name": "Python 3.6 (tensorflow)",
   "language": "python",
   "name": "tensorflowenv"
  },
  "language_info": {
   "codemirror_mode": {
    "name": "ipython",
    "version": 3
   },
   "file_extension": ".py",
   "mimetype": "text/x-python",
   "name": "python",
   "nbconvert_exporter": "python",
   "pygments_lexer": "ipython3",
   "version": "3.6.8"
  }
 },
 "nbformat": 4,
 "nbformat_minor": 2
}
